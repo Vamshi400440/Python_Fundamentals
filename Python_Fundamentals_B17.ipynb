{
 "cells": [
  {
   "cell_type": "code",
   "execution_count": 8,
   "metadata": {},
   "outputs": [
    {
     "name": "stdout",
     "output_type": "stream",
     "text": [
      "hello welcome to Python world 2020 and Thanks to Faiyaz\n"
     ]
    }
   ],
   "source": [
    "year = '2020'\n",
    "code = 'Python'\n",
    "Trainer ='Faiyaz'\n",
    "\n",
    "print('hello welcome to',code,'world',year, 'and Thanks to',Trainer)"
   ]
  }
 ],
 "metadata": {
  "kernelspec": {
   "display_name": "Python 3",
   "language": "python",
   "name": "python3"
  },
  "language_info": {
   "codemirror_mode": {
    "name": "ipython",
    "version": 3
   },
   "file_extension": ".py",
   "mimetype": "text/x-python",
   "name": "python",
   "nbconvert_exporter": "python",
   "pygments_lexer": "ipython3",
   "version": "3.7.6"
  }
 },
 "nbformat": 4,
 "nbformat_minor": 4
}
