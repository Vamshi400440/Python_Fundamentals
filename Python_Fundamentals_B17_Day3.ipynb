{
 "cells": [
  {
   "cell_type": "code",
   "execution_count": 5,
   "metadata": {},
   "outputs": [
    {
     "name": "stdout",
     "output_type": "stream",
     "text": [
      "sachin tendulkar\n",
      "Sachin Tendulkar\n",
      "SACHIN TENDULKAR\n",
      "sachin tendulkar\n"
     ]
    }
   ],
   "source": [
    "#string case methods\n",
    "favorite_cricketer='sachin tendulkar'\n",
    "print(favorite_cricketer)\n",
    "print(favorite_cricketer.title())\n",
    "print(favorite_cricketer.upper())\n",
    "print(favorite_cricketer.lower())"
   ]
  },
  {
   "cell_type": "code",
   "execution_count": 11,
   "metadata": {},
   "outputs": [
    {
     "name": "stdout",
     "output_type": "stream",
     "text": [
      "Ram Charan Konidela\n"
     ]
    }
   ],
   "source": [
    "# F strings\n",
    "first_name = 'ram charan'\n",
    "last_name = 'konidela'\n",
    "full_name = f\"{first_name} {last_name}\"\n",
    "print(full_name.title())"
   ]
  },
  {
   "cell_type": "code",
   "execution_count": 24,
   "metadata": {},
   "outputs": [
    {
     "name": "stdout",
     "output_type": "stream",
     "text": [
      "kondaveeti donga Cast: Chiranjeevi , radha\n",
      "kondaveeti donga \tCast: Chiranjeevi , radha\n",
      "kondaveeti donga \n",
      "Cast: Chiranjeevi , radha\n",
      "kondaveeti donga \n",
      "\tCast: Chiranjeevi , radha\n"
     ]
    }
   ],
   "source": [
    "#Adding white spaces to the strings\n",
    "movie_name = 'kondaveeti donga'\n",
    "hero='Chiranjeevi'\n",
    "heroine='radha'\n",
    "print(movie_name,'Cast:',hero,',',heroine)\n",
    "print(movie_name,'\\tCast:',hero,',',heroine)\n",
    "print(movie_name,'\\nCast:',hero,',',heroine)\n",
    "print(movie_name,'\\n\\tCast:',hero,',',heroine)"
   ]
  },
  {
   "cell_type": "code",
   "execution_count": 32,
   "metadata": {},
   "outputs": [
    {
     "name": "stdout",
     "output_type": "stream",
     "text": [
      " Python\n",
      "Python\n",
      "decision making\n",
      "BMC\n",
      "StarSchema\n"
     ]
    }
   ],
   "source": [
    "#Removing white spaces\n",
    "language = ' Python'\n",
    "skills = 'decision making  '\n",
    "tools = ' BMC '\n",
    "Model = 'Star Schema'\n",
    "print(language)\n",
    "print(language.lstrip())\n",
    "print(skills.rstrip())\n",
    "print(tools.strip())\n",
    "print(Model.replace(' ',''))"
   ]
  }
 ],
 "metadata": {
  "kernelspec": {
   "display_name": "Python 3",
   "language": "python",
   "name": "python3"
  },
  "language_info": {
   "codemirror_mode": {
    "name": "ipython",
    "version": 3
   },
   "file_extension": ".py",
   "mimetype": "text/x-python",
   "name": "python",
   "nbconvert_exporter": "python",
   "pygments_lexer": "ipython3",
   "version": "3.7.6"
  }
 },
 "nbformat": 4,
 "nbformat_minor": 4
}
