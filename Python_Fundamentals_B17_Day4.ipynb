{
 "cells": [
  {
   "cell_type": "code",
   "execution_count": 18,
   "metadata": {},
   "outputs": [
    {
     "name": "stdout",
     "output_type": "stream",
     "text": [
      "['a', 'e', 'i', 'o', 'u']\n",
      "i\n"
     ]
    },
    {
     "data": {
      "text/plain": [
       "list"
      ]
     },
     "execution_count": 18,
     "metadata": {},
     "output_type": "execute_result"
    }
   ],
   "source": [
    "#Introduction to list data types\n",
    "vowels = ['a','e','i','o','u']\n",
    "print(vowels)\n",
    "#defining the order of items in the list\n",
    "print(vowels[2])  #index starts from '0'\n",
    "#Find the type of variable\n",
    "type(vowels)\n"
   ]
  },
  {
   "cell_type": "code",
   "execution_count": 32,
   "metadata": {},
   "outputs": [
    {
     "name": "stdout",
     "output_type": "stream",
     "text": [
      "['honda', 'buick', 'ford', 'maruthi', 'chevy']\n",
      "['honda', 'buick', 'ford', 'maruthi', 'chevy', 'volvo']\n",
      "['honda', 'buick', 'ford', 'BMW', 'maruthi', 'chevy', 'volvo']\n",
      "['honda', 'buick', 'ford', 'BMW', 'chevy', 'volvo']\n"
     ]
    }
   ],
   "source": [
    "#Re assigning the element from the list\n",
    "cars = ['honda','buick','audi','maruthi','chevy']\n",
    "cars[2] = 'ford'\n",
    "print(cars)\n",
    "#Adding the element to the list\n",
    "cars.append('volvo')\n",
    "print(cars)\n",
    "#Adding element at our own choice of place.This can be acheived by insert method\n",
    "cars.insert(3,'BMW')\n",
    "print(cars)\n",
    "#Deleting the elements from the list\n",
    "del cars[4]\n",
    "print(cars)"
   ]
  },
  {
   "cell_type": "code",
   "execution_count": 34,
   "metadata": {},
   "outputs": [
    {
     "name": "stdout",
     "output_type": "stream",
     "text": [
      "chevy\n",
      "['honda', 'buick', 'ford', 'BMW']\n",
      "ford\n",
      "['honda', 'buick', 'BMW']\n"
     ]
    }
   ],
   "source": [
    "#Introduction to POP method\n",
    "x = cars.pop() #By default, pop method permanently deletes last or end element\n",
    "print(x) # this gives what value it deletes\n",
    "print(cars)\n",
    "y = cars.pop(2) # this deletes second index element permanently\n",
    "print(y)\n",
    "print(cars)\n"
   ]
  }
 ],
 "metadata": {
  "kernelspec": {
   "display_name": "Python 3",
   "language": "python",
   "name": "python3"
  },
  "language_info": {
   "codemirror_mode": {
    "name": "ipython",
    "version": 3
   },
   "file_extension": ".py",
   "mimetype": "text/x-python",
   "name": "python",
   "nbconvert_exporter": "python",
   "pygments_lexer": "ipython3",
   "version": "3.7.6"
  }
 },
 "nbformat": 4,
 "nbformat_minor": 4
}
