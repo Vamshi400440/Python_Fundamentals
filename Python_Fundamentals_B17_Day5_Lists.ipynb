{
 "cells": [
  {
   "cell_type": "code",
   "execution_count": 3,
   "metadata": {},
   "outputs": [
    {
     "name": "stdout",
     "output_type": "stream",
     "text": [
      "['BMW', 'audi', 'benz', 'honda', 'maruthi', 'tata', 'toyota']\n",
      "['audi', 'BMW', 'toyota', 'maruthi', 'benz', 'honda', 'tata']\n",
      "['BMW', 'audi', 'benz', 'honda', 'maruthi', 'tata', 'toyota']\n"
     ]
    }
   ],
   "source": [
    "#Organizinf the data in the list\n",
    "cars = ['audi','BMW','toyota','maruthi','benz','honda','tata']\n",
    "print(sorted(cars)) # temp sorting\n",
    "print(cars)\n",
    "cars.sort()  #permanent sort\n",
    "print(cars)"
   ]
  },
  {
   "cell_type": "code",
   "execution_count": 22,
   "metadata": {},
   "outputs": [
    {
     "name": "stdout",
     "output_type": "stream",
     "text": [
      "['toyota', 'tata', 'maruthi', 'honda', 'benz', 'audi', 'BMW']\n"
     ]
    }
   ],
   "source": [
    "# To print the list in reverse order\n",
    "cars.reverse()  #Permanenr changes\n",
    "print(cars)"
   ]
  },
  {
   "cell_type": "code",
   "execution_count": 26,
   "metadata": {},
   "outputs": [
    {
     "name": "stdout",
     "output_type": "stream",
     "text": [
      "maruthi\n",
      "honda is one of the top rated brands in india\n"
     ]
    }
   ],
   "source": [
    "#To calculate the length of the list\n",
    "len(cars)\n",
    "\n",
    "#TO access maruthi in the list\n",
    "print(cars[2])\n",
    "\n",
    "#TO print custom statement for it\n",
    "print(f\"{cars[3]} is one of the top rated brands in india\")"
   ]
  },
  {
   "cell_type": "code",
   "execution_count": 43,
   "metadata": {},
   "outputs": [
    {
     "name": "stdout",
     "output_type": "stream",
     "text": [
      "audi\n",
      "BMW\n",
      "toyota\n",
      "maruthi\n",
      "benz\n",
      "honda\n",
      "tata\n",
      "my favorite car is Audi\n",
      "my favorite car is Audi\n",
      "my favorite car is Bmw\n",
      "my favorite car is Toyota\n",
      "my favorite car is Maruthi\n",
      "my favorite car is Benz\n",
      "my favorite car is Honda\n",
      "my favorite car is Tata\n"
     ]
    }
   ],
   "source": [
    "\"\"\"Loops\n",
    "For loop will be iterating through the elements\"\"\"\n",
    "cars = ['audi','bmw','toyota','maruthi','benz','honda','tata']\n",
    "for one_car in cars :\n",
    "    print(one_car)\n",
    "print(f\"my favorite car is {cars[0].title()}\")  #TO customize only one car and also in title case\n",
    "for one_car in cars:\n",
    "    print(f\"my favorite car is {one_car.title()}\") #iterate all cars one after other in title case\n"
   ]
  },
  {
   "cell_type": "code",
   "execution_count": 46,
   "metadata": {},
   "outputs": [
    {
     "name": "stdout",
     "output_type": "stream",
     "text": [
      "my favorite car is Audi.\n",
      "I choose this Audi over all.\n",
      "\n",
      "my favorite car is Bmw.\n",
      "I choose this Bmw over all.\n",
      "\n",
      "my favorite car is Toyota.\n",
      "I choose this Toyota over all.\n",
      "\n",
      "my favorite car is Maruthi.\n",
      "I choose this Maruthi over all.\n",
      "\n",
      "my favorite car is Benz.\n",
      "I choose this Benz over all.\n",
      "\n",
      "my favorite car is Honda.\n",
      "I choose this Honda over all.\n",
      "\n",
      "my favorite car is Tata.\n",
      "I choose this Tata over all.\n",
      "\n"
     ]
    }
   ],
   "source": [
    "for one_car in cars:\n",
    "    print(f\"my favorite car is {one_car.title()}.\")\n",
    "    print(f\"I choose this {one_car.title()} over all.\\n\")\n"
   ]
  },
  {
   "cell_type": "code",
   "execution_count": 143,
   "metadata": {},
   "outputs": [
    {
     "name": "stdout",
     "output_type": "stream",
     "text": [
      "Audi\n",
      "BMW\n",
      "Toyota\n",
      "Maruthi\n",
      "Benz\n",
      "Honda\n",
      "Tata\n"
     ]
    }
   ],
   "source": [
    "#Introduction to if statement\n",
    "cars = ['audi','bmw','toyota','maruthi','benz','honda','tata']\n",
    "for one_car in cars:\n",
    "    if one_car =='bmw':\n",
    "         print(one_car.upper())\n",
    "   \n",
    "    else:\n",
    "         print(one_car.title())\n"
   ]
  },
  {
   "cell_type": "code",
   "execution_count": 106,
   "metadata": {},
   "outputs": [
    {
     "name": "stdout",
     "output_type": "stream",
     "text": [
      "['audi', 'bmw']\n",
      "['audi', 'toyota', 'benz', 'tata']\n"
     ]
    }
   ],
   "source": [
    "#Introduction to slicing of list\n",
    "cars = ['audi','bmw','toyota','maruthi','benz','honda','tata']\n",
    "#to have a group of 2 cars\n",
    "print(cars[0:2]) #last value is always exclusive\n",
    "\n",
    "#General syntax of Slicing - > Start Point:End Point:Step Count\n",
    "\n",
    "#To get every alternative car in the output\n",
    "print(cars[0:7:2])"
   ]
  },
  {
   "cell_type": "code",
   "execution_count": 114,
   "metadata": {},
   "outputs": [
    {
     "name": "stdout",
     "output_type": "stream",
     "text": [
      "tata\n",
      "tata\n",
      "['tata', 'honda', 'benz', 'maruthi', 'toyota', 'bmw', 'audi']\n"
     ]
    }
   ],
   "source": [
    "cars = ['audi','bmw','toyota','maruthi','benz','honda','tata']\n",
    "\n",
    "#Want to access last element in the list\n",
    "print(cars[6])\n",
    "print(cars[-1])\n",
    "\n",
    "#print the list in the reverse order\n",
    "print(cars[::-1])\n"
   ]
  },
  {
   "cell_type": "code",
   "execution_count": 117,
   "metadata": {},
   "outputs": [
    {
     "name": "stdout",
     "output_type": "stream",
     "text": [
      "['tata', 'honda', 'benz', 'maruthi', 'toyota', 'bmw', 'audi']\n"
     ]
    }
   ],
   "source": [
    "#the alternative wat to reverse list\n",
    "cars = ['audi','bmw','toyota','maruthi','benz','honda','tata']\n",
    "cars.reverse()\n",
    "print(cars)"
   ]
  },
  {
   "cell_type": "code",
   "execution_count": 146,
   "metadata": {},
   "outputs": [
    {
     "name": "stdout",
     "output_type": "stream",
     "text": [
      "0\n",
      "1\n",
      "2\n",
      "3\n",
      "4\n",
      "5\n",
      "6\n",
      "7\n",
      "8\n",
      "9\n",
      "10\n",
      "11\n",
      "12\n",
      "13\n",
      "14\n",
      "15\n",
      "16\n",
      "17\n",
      "18\n",
      "19\n",
      "20\n",
      "21\n",
      "22\n",
      "23\n",
      "24\n",
      "25\n",
      "26\n",
      "27\n",
      "28\n",
      "29\n",
      "30\n",
      "[0, 1, 2, 3, 4, 5, 6, 7, 8, 9, 10, 11, 12, 13, 14, 15, 16, 17, 18, 19, 20, 21, 22, 23, 24, 25, 26, 27, 28, 29, 30]\n",
      "[0, 2, 4, 6, 8, 10, 12, 14, 16, 18, 20, 22, 24, 26, 28, 30]\n",
      "[1, 3, 5, 7, 9, 11, 13, 15, 17, 19, 21, 23, 25, 27, 29]\n"
     ]
    }
   ],
   "source": [
    "#Understanding the range function\n",
    "#Range function ---> start value, stop value, step count\n",
    "\n",
    "#I want to print till 30\n",
    "for value in range(0,31):\n",
    "    print(value)\n",
    "    \n",
    "#to have a list of 30 numbers\n",
    "numbers = list(range(0,31))\n",
    "print(numbers)\n",
    "\n",
    "#Print only even numbers from the list\n",
    "even_numbers = list(range(0,31,2))\n",
    "print(even_numbers)\n",
    "odd_numbers = list(range(1,31,2))\n",
    "print(odd_numbers)"
   ]
  }
 ],
 "metadata": {
  "kernelspec": {
   "display_name": "Python 3",
   "language": "python",
   "name": "python3"
  },
  "language_info": {
   "codemirror_mode": {
    "name": "ipython",
    "version": 3
   },
   "file_extension": ".py",
   "mimetype": "text/x-python",
   "name": "python",
   "nbconvert_exporter": "python",
   "pygments_lexer": "ipython3",
   "version": "3.7.6"
  }
 },
 "nbformat": 4,
 "nbformat_minor": 4
}
