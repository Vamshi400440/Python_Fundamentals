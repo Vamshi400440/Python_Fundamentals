{
 "cells": [
  {
   "cell_type": "code",
   "execution_count": null,
   "metadata": {},
   "outputs": [],
   "source": [
    "#Dictionary Data Type\n",
    "#Dict data type is a collection of key- value pairs\n",
    "\n",
    "#Dict data type is defined as {}\n",
    "#It is mutable data type"
   ]
  },
  {
   "cell_type": "code",
   "execution_count": 15,
   "metadata": {},
   "outputs": [
    {
     "name": "stdout",
     "output_type": "stream",
     "text": [
      "5\n",
      "green\n",
      "{'color': 'green', 'points': 5, 'x_position': 0, 'y_position': 15}\n",
      "you just earned 5 points\n",
      "The alien is in Yellow\n",
      "{'color': 'Yellow', 'points': 10, 'y_position': 15}\n"
     ]
    }
   ],
   "source": [
    "#Build a game\n",
    "alien_0 = {'color':'green','points':5}\n",
    "type(alien_0)\n",
    "\n",
    "#color(key) ----> green(value)\n",
    "#points(key) ---> 5(value)\n",
    "\n",
    "#Here keys will be acting as indexes\n",
    "print(alien_0['points'])\n",
    "print(alien_0['color'])\n",
    "\n",
    "#Adding new key value pair to the dictionary\n",
    "alien_0['x_position'] =0\n",
    "alien_0['y_position'] =15\n",
    "print(alien_0)\n",
    "\n",
    "#we have to award points to the game\n",
    "new_points = alien_0['points']\n",
    "print(f\"you just earned {new_points} points\")\n",
    "\n",
    "#Modifying the values in the dictionary\n",
    "\n",
    "#Level 2 --- yellow and 10 points\n",
    "alien_0['color'] = 'Yellow'\n",
    "alien_0['points'] = 10\n",
    "print(f\"The alien is in {alien_0['color']}\")\n",
    "\n",
    "#Removing key value pair from dict\n",
    "del alien_0['x_position']\n",
    "print(alien_0)"
   ]
  },
  {
   "cell_type": "code",
   "execution_count": 28,
   "metadata": {},
   "outputs": [
    {
     "name": "stdout",
     "output_type": "stream",
     "text": [
      "key:f_name\n",
      "value:vamshi\n",
      "key:l_name\n",
      "value:Itukala\n",
      "key:username\n",
      "value:vamshi400440\n",
      "key:pwd\n",
      "value:9966\n",
      "key:dob\n",
      "value:01-01-2000\n"
     ]
    }
   ],
   "source": [
    "#Looping through dictionory\n",
    "\n",
    "user1 = {'f_name': 'vamshi','l_name':'Itukala','username':'vamshi400440','pwd':9966,'dob':'01-01-2000'}\n",
    "\n",
    "for key,value in user1.items():\n",
    "    print(f\"key:{key}\")\n",
    "    print(f\"value:{value}\")"
   ]
  },
  {
   "cell_type": "code",
   "execution_count": 31,
   "metadata": {},
   "outputs": [
    {
     "name": "stdout",
     "output_type": "stream",
     "text": [
      "\n",
      "key:f_name\n",
      "value:vamshi\n",
      "\n",
      "key:l_name\n",
      "value:Itukala\n",
      "\n",
      "key:username\n",
      "value:vamshi400440\n",
      "\n",
      "key:pwd\n",
      "value:9966\n",
      "\n",
      "key:dob\n",
      "value:01-01-2000\n"
     ]
    }
   ],
   "source": [
    "user1 = {'f_name': 'vamshi','l_name':'Itukala','username':'vamshi400440','pwd':9966,'dob':'01-01-2000'}\n",
    "\n",
    "for key,value in user1.items():\n",
    "    print(f\"\\nkey:{key}\")\n",
    "    print(f\"value:{value}\")"
   ]
  },
  {
   "cell_type": "code",
   "execution_count": 33,
   "metadata": {},
   "outputs": [
    {
     "name": "stdout",
     "output_type": "stream",
     "text": [
      "f_name\n",
      "l_name\n",
      "username\n",
      "pwd\n",
      "dob\n",
      "vamshi\n",
      "Itukala\n",
      "vamshi400440\n",
      "9966\n",
      "01-01-2000\n"
     ]
    }
   ],
   "source": [
    "#get only keys in the output\n",
    "for a in user1.keys():\n",
    "    print(a)\n",
    "    \n",
    "#get only values in the output\n",
    "for b in user1.values():\n",
    "    print(b)"
   ]
  }
 ],
 "metadata": {
  "kernelspec": {
   "display_name": "Python 3",
   "language": "python",
   "name": "python3"
  },
  "language_info": {
   "codemirror_mode": {
    "name": "ipython",
    "version": 3
   },
   "file_extension": ".py",
   "mimetype": "text/x-python",
   "name": "python",
   "nbconvert_exporter": "python",
   "pygments_lexer": "ipython3",
   "version": "3.7.6"
  }
 },
 "nbformat": 4,
 "nbformat_minor": 4
}
